{
  "cells": [
    {
      "cell_type": "code",
      "execution_count": null,
      "metadata": {
        "id": "p9m1AsVvJiWJ"
      },
      "outputs": [],
      "source": [
        "ROOT_DIR = '/content'"
      ]
    },
    {
      "cell_type": "code",
      "execution_count": null,
      "metadata": {
        "id": "fs6J9C_lGtMZ"
      },
      "outputs": [],
      "source": [
        "!pip install ultralytics PyYAML patool"
      ]
    },
    {
      "cell_type": "code",
      "execution_count": null,
      "metadata": {
        "id": "tmEBu5TBKJxw"
      },
      "outputs": [],
      "source": [
        "# @title Check Dangerous Animals { display-mode: \"form\" }\n",
        "zebra = False # @param {type:\"boolean\"}\n",
        "lion = True # @param {type:\"boolean\"}\n",
        "rhino = True # @param {type:\"boolean\"}\n",
        "elephant = False # @param {type:\"boolean\"}\n",
        "buffalo = False  # @param {type:\"boolean\"}\n",
        "turtle = True  # @param {type:\"boolean\"}\n",
        "ostrich = False  # @param {type:\"boolean\"}"
      ]
    },
    {
      "cell_type": "markdown",
      "metadata": {
        "id": "zhDyhdfUAEe8"
      },
      "source": [
        "# Download Dataset (Images and Labels)"
      ]
    },
    {
      "cell_type": "code",
      "execution_count": null,
      "metadata": {
        "collapsed": true,
        "id": "gewhO3dfnlov"
      },
      "outputs": [],
      "source": [
        "%%bash\n",
        "\n",
        "file_url=\"https://drive.google.com/uc?export=download&id=1FrPo0bICEH8Xwuyfl2TgBRycyQ6UYUtb\"\n",
        "destination_path=\"/content/wildlife_detector.zip\"\n",
        "\n",
        "confirmation_page=$(curl -s -L \"$file_url\")\n",
        "\n",
        "file_id=$(echo \"$confirmation_page\" | grep -oE \"name=\\\"id\\\" value=\\\"[^\\\"]+\" | sed 's/name=\"id\" value=\"//')\n",
        "file_confirm=$(echo \"$confirmation_page\" | grep -oE \"name=\\\"confirm\\\" value=\\\"[^\\\"]+\" | sed 's/name=\"confirm\" value=\"//')\n",
        "file_uuid=$(echo \"$confirmation_page\" | grep -oE \"name=\\\"uuid\\\" value=\\\"[^\\\"]+\" | sed 's/name=\"uuid\" value=\"//')\n",
        "\n",
        "download_url=\"https://drive.usercontent.google.com/download?id=$file_id&export=download&confirm=$file_confirm&uuid=$file_uuid\"\n",
        "\n",
        "curl -L -o \"$destination_path\" \"$download_url\"\n",
        "\n",
        "if [ $? -eq 0 ]; then\n",
        "    echo \"Download completed successfully.\"\n",
        "else\n",
        "    echo \"Download failed.\"\n",
        "fi"
      ]
    },
    {
      "cell_type": "code",
      "execution_count": null,
      "metadata": {
        "id": "EicMX0V0b8w6"
      },
      "outputs": [],
      "source": [
        "import patoolib\n",
        "\n",
        "patoolib.extract_archive(\"/content/wildlife_detector.zip\", outdir=ROOT_DIR)"
      ]
    },
    {
      "cell_type": "markdown",
      "metadata": {
        "id": "zOxPnDywAW1C"
      },
      "source": [
        "# Train YOLO Model with Custom Animal Dataset"
      ]
    },
    {
      "cell_type": "code",
      "execution_count": null,
      "metadata": {
        "id": "v0dbNQteHcYA"
      },
      "outputs": [],
      "source": [
        "import os\n",
        "\n",
        "from ultralytics import YOLO\n",
        "\n",
        "\n",
        "def train_model():\n",
        "  # Load a model\n",
        "  model = YOLO(\"yolov8n.pt\")  # build a pre-trained model\n",
        "\n",
        "\n",
        "  # Use the model\n",
        "  results = model.train(data=os.path.join(ROOT_DIR, \"wildlife_detector\", \"config.yaml\"), epochs=5)  # train the model"
      ]
    },
    {
      "cell_type": "markdown",
      "metadata": {
        "id": "cmnM4dnRAmav"
      },
      "source": [
        "# Predict Animal Labels from Animal Videos"
      ]
    },
    {
      "cell_type": "code",
      "execution_count": null,
      "metadata": {
        "collapsed": true,
        "id": "OQ6aj64QMK7j"
      },
      "outputs": [],
      "source": [
        "import os\n",
        "\n",
        "from ultralytics import YOLO\n",
        "import cv2\n",
        "\n",
        "def predict_model(video_file='zebra.mp4'):\n",
        "  VIDEOS_DIR = os.path.join(ROOT_DIR, \"wildlife_detector\", 'videos')\n",
        "\n",
        "  video_path = os.path.join(VIDEOS_DIR, video_file)\n",
        "  video_path_out = '{}_out.mp4'.format(video_path.split('.')[0])\n",
        "\n",
        "  cap = cv2.VideoCapture(video_path)\n",
        "  ret, frame = cap.read()\n",
        "  H, W, _ = frame.shape\n",
        "  out = cv2.VideoWriter(video_path_out, cv2.VideoWriter_fourcc(*'MP4V'), int(cap.get(cv2.CAP_PROP_FPS)), (W, H))\n",
        "\n",
        "  model_path = os.path.join(ROOT_DIR, 'runs', 'detect', 'train', 'weights', 'best.pt')\n",
        "\n",
        "  # Load a model\n",
        "  model = YOLO(model_path)  # load a custom model\n",
        "\n",
        "  threshold = 0.5\n",
        "\n",
        "  while ret:\n",
        "\n",
        "      results = model(frame)[0]\n",
        "\n",
        "      for result in results.boxes.data.tolist():\n",
        "          x1, y1, x2, y2, score, class_id = result\n",
        "\n",
        "          if score > threshold:\n",
        "              color = (0, 0, 255)\n",
        "              if \"NOT DANGEROUS\" in results.names[int(class_id)].upper():\n",
        "                color = (0, 255, 0)\n",
        "              cv2.rectangle(frame, (int(x1), int(y1)), (int(x2), int(y2)), color, 4)\n",
        "              cv2.putText(frame, results.names[int(class_id)].upper(), (int(x1), int(y1 - 10)),\n",
        "                          cv2.FONT_HERSHEY_SIMPLEX, 1.3, color, 3, cv2.LINE_AA)\n",
        "\n",
        "      out.write(frame)\n",
        "      ret, frame = cap.read()\n",
        "\n",
        "  cap.release()\n",
        "  out.release()\n",
        "  cv2.destroyAllWindows()"
      ]
    },
    {
      "cell_type": "markdown",
      "metadata": {
        "id": "v3qult32UDCE"
      },
      "source": [
        "# Pre-processed Sample Animal Videos"
      ]
    },
    {
      "cell_type": "code",
      "execution_count": null,
      "metadata": {
        "id": "LF07rIz4N7BO"
      },
      "outputs": [],
      "source": [
        "from IPython.display import HTML\n",
        "from base64 import b64encode\n",
        "\n",
        "mp4 = open('/content/wildlife_detector/videos/turtles.mp4','rb').read()\n",
        "zebra_data_url = \"data:video/mp4;base64,\" + b64encode(mp4).decode()\n",
        "\n",
        "mp4 = open('/content/wildlife_detector/videos/elephant_zebra_ostrich.mp4','rb').read()\n",
        "lion_data_url = \"data:video/mp4;base64,\" + b64encode(mp4).decode()\n",
        "\n",
        "mp4 = open('/content/wildlife_detector/videos/rhino_zebra.mp4','rb').read()\n",
        "rhino_data_url = \"data:video/mp4;base64,\" + b64encode(mp4).decode()\n",
        "\n",
        "HTML(\"\"\"\n",
        "<video width=400 controls>\n",
        "      <source src=\"%s\" type=\"video/mp4\">\n",
        "</video>\n",
        "<video width=400 controls>\n",
        "      <source src=\"%s\" type=\"video/mp4\">\n",
        "</video>\n",
        "<video width=400 controls>\n",
        "      <source src=\"%s\" type=\"video/mp4\">\n",
        "</video>\n",
        "\"\"\" % (zebra_data_url, lion_data_url, rhino_data_url))"
      ]
    },
    {
      "cell_type": "markdown",
      "metadata": {
        "id": "IVYsP74Jdc8B"
      },
      "source": [
        "# Detect and Classify Animals in Videos using Model"
      ]
    },
    {
      "cell_type": "code",
      "execution_count": null,
      "metadata": {
        "id": "vUK_a6fid9hy"
      },
      "outputs": [],
      "source": [
        "import yaml\n",
        "import shutil\n",
        "\n",
        "def predict_animal_detector(buffalo, lion, zebra, rhino, elephant, turtle, ostrich):\n",
        "  # Delete Previous Runs\n",
        "  shutil.rmtree('/content/runs/', ignore_errors=True)\n",
        "\n",
        "  # Update Config based on front-end input\n",
        "  with open(\"/content/wildlife_detector/config.yaml\") as f:\n",
        "    cfg = yaml.load(f, Loader=yaml.FullLoader)\n",
        "    cfg['names']['0'] = 'buffalo (Dangerous)' if buffalo else 'buffalo (Not Dangerous)'\n",
        "    cfg['names']['1'] = 'elephant (Dangerous)' if elephant else 'elephant (Not Dangerous)'\n",
        "    cfg['names']['2'] = 'rhino (Dangerous)' if rhino else 'rhino (Not Dangerous)'\n",
        "    cfg['names']['3'] = 'zebra (Dangerous)' if zebra else 'zebra (Not Dangerous)'\n",
        "    cfg['names']['4'] = 'lion (Dangerous)' if lion else 'lion (Not Dangerous)'\n",
        "    cfg['names']['5'] = 'ostrich (Dangerous)' if ostrich else 'ostrich (Not Dangerous)'\n",
        "    cfg['names']['6'] = 'turtle (Dangerous)' if turtle else 'turtle (Not Dangerous)'\n",
        "\n",
        "  with open(\"/content/wildlife_detector/config.yaml\", \"w\") as f:\n",
        "    cfg = yaml.dump(\n",
        "        cfg, stream=f, default_flow_style=False, sort_keys=False\n",
        "    )\n",
        "\n",
        "  # Train YOLO Model with user input\n",
        "  train_model()\n",
        "\n",
        "  # Take 3 sample videos and use model to detect and classify animals\n",
        "  for i in ['turtles.mp4', 'elephant_zebra_ostrich.mp4', 'rhino_zebra.mp4']:\n",
        "    predict_model(i)\n",
        "\n",
        "  # Convert video format to support browser\n",
        "  os.system(\"ffmpeg -i /content/wildlife_detector/videos/turtles_out.mp4 -vcodec libx264 /content/wildlife_detector/videos/turtles_out_final.mp4\")\n",
        "  os.system(\"ffmpeg -i /content/wildlife_detector/videos/elephant_zebra_ostrich_out.mp4 -vcodec libx264 /content/wildlife_detector/videos/elephant_zebra_ostrich_out_final.mp4\")\n",
        "  os.system(\"ffmpeg -i /content/wildlife_detector/videos/rhino_zebra_out.mp4 -vcodec libx264 /content/wildlife_detector/videos/rhino_zebra_out_final.mp4\")\n",
        "\n",
        "\n",
        "predict_animal_detector(buffalo, lion, zebra, rhino, elephant, turtle, ostrich)"
      ]
    },
    {
      "cell_type": "markdown",
      "metadata": {
        "id": "mRMy6J3uUM6N"
      },
      "source": [
        "# Post-processing Sample Animal videos (Detection and Classification)"
      ]
    },
    {
      "cell_type": "code",
      "execution_count": null,
      "metadata": {
        "colab": {
          "background_save": true
        },
        "id": "QLJ9jY8TUMLC"
      },
      "outputs": [],
      "source": [
        "from IPython.display import HTML\n",
        "from base64 import b64encode\n",
        "\n",
        "mp4 = open('/content/wildlife_detector/videos/turtles_out_final.mp4','rb').read()\n",
        "zebra_data_url = \"data:video/mp4;base64,\" + b64encode(mp4).decode()\n",
        "\n",
        "mp4 = open('/content/wildlife_detector/videos/elephant_zebra_ostrich_out_final.mp4','rb').read()\n",
        "lion_data_url = \"data:video/mp4;base64,\" + b64encode(mp4).decode()\n",
        "\n",
        "mp4 = open('/content/wildlife_detector/videos/rhino_zebra_out_final.mp4','rb').read()\n",
        "rhino_data_url = \"data:video/mp4;base64,\" + b64encode(mp4).decode()\n",
        "\n",
        "HTML(\"\"\"\n",
        "<video width=400 controls>\n",
        "      <source src=\"%s\" type=\"video/mp4\">\n",
        "</video>\n",
        "<video width=400 controls>\n",
        "      <source src=\"%s\" type=\"video/mp4\">\n",
        "</video>\n",
        "<video width=400 controls>\n",
        "      <source src=\"%s\" type=\"video/mp4\">\n",
        "</video>\n",
        "\"\"\" % (zebra_data_url, lion_data_url, rhino_data_url))"
      ]
    }
  ],
  "metadata": {
    "accelerator": "GPU",
    "colab": {
      "gpuType": "L4",
      "provenance": []
    },
    "kernelspec": {
      "display_name": "Python 3",
      "name": "python3"
    },
    "language_info": {
      "name": "python"
    }
  },
  "nbformat": 4,
  "nbformat_minor": 0
}